{
 "cells": [
  {
   "cell_type": "code",
   "execution_count": 4,
   "metadata": {},
   "outputs": [],
   "source": [
    "# import os\n",
    "# l=os.listdir()"
   ]
  },
  {
   "cell_type": "code",
   "execution_count": 5,
   "id": "b0079cbd",
   "metadata": {},
   "outputs": [],
   "source": [
    "# directories = [folder for folder in os.listdir() if os.path.isdir(folder) and 'Part' in folder]\n",
    "# directories.sort(key=lambda x: int(x.split('_')[0][4:]))\n",
    "\n",
    "# for i, folder in enumerate(directories, start=1):\n",
    "#     new_name = f\"{i:02d}_{folder}\"\n",
    "#     os.rename(folder, new_name)"
   ]
  },
  {
   "cell_type": "code",
   "execution_count": 6,
   "id": "f8264bb9",
   "metadata": {},
   "outputs": [],
   "source": [
    "# for i, folder in enumerate(directories, start=1):\n",
    "#     names = folder.split('_')\n",
    "#     new_name=names[0]+'_'+'_'.join(names[2:])\n",
    "#     os.rename(folder, new_name)"
   ]
  },
  {
   "cell_type": "code",
   "execution_count": null,
   "id": "e53768c0",
   "metadata": {},
   "outputs": [],
   "source": []
  }
 ],
 "metadata": {
  "kernelspec": {
   "display_name": "Python 3",
   "language": "python",
   "name": "python3"
  },
  "language_info": {
   "codemirror_mode": {
    "name": "ipython",
    "version": 3
   },
   "file_extension": ".py",
   "mimetype": "text/x-python",
   "name": "python",
   "nbconvert_exporter": "python",
   "pygments_lexer": "ipython3",
   "version": "3.12.1"
  }
 },
 "nbformat": 4,
 "nbformat_minor": 5
}
