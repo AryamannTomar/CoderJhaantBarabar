{
 "cells": [
  {
   "cell_type": "code",
   "execution_count": 4,
   "metadata": {},
   "outputs": [
    {
     "data": {
      "text/plain": [
       "['Part10_DP',\n",
       " 'Part11_DisjointSetUnion',\n",
       " 'Part12_Trees',\n",
       " 'Part13_Graphs',\n",
       " 'Part14_Combinatorics',\n",
       " 'Part15_Geometry',\n",
       " 'Part16_GameTheory',\n",
       " 'Part17_String',\n",
       " 'Part18_Tries',\n",
       " 'Part19_RangeQuery',\n",
       " 'Part1_Rec_AdvRec',\n",
       " 'Part20_BitMasking',\n",
       " 'Part2_STL',\n",
       " 'Part3_2PtrSlidingWindow',\n",
       " 'Part4_GreedyAlgos',\n",
       " 'Part5_Sorting',\n",
       " 'Part6_BinarySearch',\n",
       " 'Part7_BackTracking',\n",
       " 'Part8_BitManipulation',\n",
       " 'Part9_NumberTheory']"
      ]
     },
     "execution_count": 4,
     "metadata": {},
     "output_type": "execute_result"
    }
   ],
   "source": [
    "import os\n",
    "l=os.listdir()\n",
    "l=[i for i in l if 'Part' in i]\n",
    "l"
   ]
  },
  {
   "cell_type": "code",
   "execution_count": 2,
   "id": "b0079cbd",
   "metadata": {},
   "outputs": [
    {
     "name": "stdout",
     "output_type": "stream",
     "text": [
      "Directories renamed successfully.\n"
     ]
    }
   ],
   "source": [
    "import os\n",
    "\n",
    "# Get a list of directories containing 'Part' in their names\n",
    "directories = [folder for folder in os.listdir() if os.path.isdir(folder) and 'Part' in folder]\n",
    "\n",
    "# Sort the directories based on the numeric part of their names\n",
    "# directories.sort(key=lambda x: int(x.split('_')[0][4:]))\n",
    "\n",
    "# Rename the directories\n",
    "# for i, folder in enumerate(directories, start=1):\n",
    "#     new_name = f\"{i:02d}_{folder}\"\n",
    "#     os.rename(folder, new_name)\n",
    "\n",
    "print(\"Directories renamed successfully.\")"
   ]
  },
  {
   "cell_type": "code",
   "execution_count": 13,
   "id": "f8264bb9",
   "metadata": {},
   "outputs": [],
   "source": [
    "for i, folder in enumerate(directories, start=1):\n",
    "    names = folder.split('_')\n",
    "    new_name=names[0]+'_'+'_'.join(names[2:])\n",
    "    os.rename(folder, new_name)"
   ]
  },
  {
   "cell_type": "code",
   "execution_count": 11,
   "id": "33bad9ae",
   "metadata": {},
   "outputs": [
    {
     "data": {
      "text/plain": [
       "'01_Rec_AdvRec'"
      ]
     },
     "execution_count": 11,
     "metadata": {},
     "output_type": "execute_result"
    }
   ],
   "source": []
  },
  {
   "cell_type": "code",
   "execution_count": null,
   "id": "4b845f3f",
   "metadata": {},
   "outputs": [],
   "source": []
  }
 ],
 "metadata": {
  "kernelspec": {
   "display_name": "Python 3",
   "language": "python",
   "name": "python3"
  },
  "language_info": {
   "codemirror_mode": {
    "name": "ipython",
    "version": 3
   },
   "file_extension": ".py",
   "mimetype": "text/x-python",
   "name": "python",
   "nbconvert_exporter": "python",
   "pygments_lexer": "ipython3",
   "version": "3.12.1"
  }
 },
 "nbformat": 4,
 "nbformat_minor": 5
}
